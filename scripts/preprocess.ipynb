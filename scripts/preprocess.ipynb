{
 "cells": [
  {
   "cell_type": "markdown",
   "id": "fefa1b0b",
   "metadata": {},
   "source": [
    "### This notebook is for the preprocessing phase of the dataset (EDA not included)"
   ]
  }
 ],
 "metadata": {
  "language_info": {
   "name": "python"
  }
 },
 "nbformat": 4,
 "nbformat_minor": 5
}
